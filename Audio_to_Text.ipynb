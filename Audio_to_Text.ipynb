{
  "nbformat": 4,
  "nbformat_minor": 0,
  "metadata": {
    "colab": {
      "provenance": [],
      "authorship_tag": "ABX9TyNDM/vIidJl0wBpUSOFT8pD",
      "include_colab_link": true
    },
    "kernelspec": {
      "name": "python3",
      "display_name": "Python 3"
    },
    "language_info": {
      "name": "python"
    }
  },
  "cells": [
    {
      "cell_type": "markdown",
      "metadata": {
        "id": "view-in-github",
        "colab_type": "text"
      },
      "source": [
        "<a href=\"https://colab.research.google.com/github/prabhmeet21/Audio-to-Text-/blob/main/Audio_to_Text.ipynb\" target=\"_parent\"><img src=\"https://colab.research.google.com/assets/colab-badge.svg\" alt=\"Open In Colab\"/></a>"
      ]
    },
    {
      "cell_type": "code",
      "execution_count": 2,
      "metadata": {
        "id": "da7YxUyr9SUW",
        "colab": {
          "base_uri": "https://localhost:8080/"
        },
        "collapsed": true,
        "outputId": "2df3dd77-c4b4-4a96-eab8-80ba8d912859"
      },
      "outputs": [
        {
          "output_type": "stream",
          "name": "stdout",
          "text": [
            "Collecting SpeechRecognition\n",
            "  Downloading speechrecognition-3.14.3-py3-none-any.whl.metadata (30 kB)\n",
            "Requirement already satisfied: pydub in /usr/local/lib/python3.11/dist-packages (0.25.1)\n",
            "Requirement already satisfied: typing-extensions in /usr/local/lib/python3.11/dist-packages (from SpeechRecognition) (4.14.0)\n",
            "Downloading speechrecognition-3.14.3-py3-none-any.whl (32.9 MB)\n",
            "\u001b[2K   \u001b[90m━━━━━━━━━━━━━━━━━━━━━━━━━━━━━━━━━━━━━━━━\u001b[0m \u001b[32m32.9/32.9 MB\u001b[0m \u001b[31m16.3 MB/s\u001b[0m eta \u001b[36m0:00:00\u001b[0m\n",
            "\u001b[?25hInstalling collected packages: SpeechRecognition\n",
            "Successfully installed SpeechRecognition-3.14.3\n"
          ]
        }
      ],
      "source": [
        "pip install SpeechRecognition pydub"
      ]
    },
    {
      "cell_type": "code",
      "source": [
        "import speech_recognition as sr\n",
        "import os\n",
        "import subprocess\n",
        "from google.colab import files\n",
        "from pydub import AudioSegment\n",
        "from pydub.silence import split_on_silence"
      ],
      "metadata": {
        "id": "-PTEeZLv93qO"
      },
      "execution_count": 3,
      "outputs": []
    },
    {
      "cell_type": "code",
      "source": [
        "pip install gTTS"
      ],
      "metadata": {
        "id": "GRvhYA8_9-pT"
      },
      "execution_count": null,
      "outputs": []
    },
    {
      "cell_type": "code",
      "source": [
        "from gtts import gTTS\n",
        "\n",
        "text = \"\"\"\n",
        "Artificial intelligence (AI) is rapidly transforming various aspects of life, with new technologies emerging that enable machines to perform tasks that typically require human intelligence. AI encompasses a range of technologies, including machine learning, natural language processing, and robotics, all of which are constantly evolving. These advancements are leading to increased automation of repetitive tasks, improved data analysis, and the development of more sophisticated tools for decision-making...\n",
        "\"\"\"\n",
        "\n",
        "tts = gTTS(text=text, lang='en')\n",
        "tts.save(\"artificial_intelligence_audio.mp3\")\n",
        "print(\"Audio saved as 'artificial_intelligence_audio.mp3'\")"
      ],
      "metadata": {
        "colab": {
          "base_uri": "https://localhost:8080/"
        },
        "id": "8o0bOhK0-EDk",
        "outputId": "b3ad8059-a902-468f-946a-95aac54d75d6"
      },
      "execution_count": 5,
      "outputs": [
        {
          "output_type": "stream",
          "name": "stdout",
          "text": [
            "Audio saved as 'artificial_intelligence_audio.mp3'\n"
          ]
        }
      ]
    },
    {
      "cell_type": "code",
      "source": [
        "from gtts import gTTS\n",
        "from pydub import AudioSegment\n",
        "\n",
        "# Step 1: Generate MP3 file using gTTS\n",
        "text = \"\"\"\n",
        "Artificial intelligence (AI) is rapidly transforming various aspects of life, with new technologies emerging that enable machines to perform tasks that typically require human intelligence. AI encompasses a range of technologies, including machine learning, natural language processing, and robotics, all of which are constantly evolving. These advancements are leading to increased automation of repetitive tasks, improved data analysis, and the development of more sophisticated tools for decision-making...\n",
        "\"\"\"\n",
        "tts = gTTS(text=text, lang='en')\n",
        "mp3_path = \"artificial_intelligence_audio.mp3\"\n",
        "wav_path = \"artificial_intelligence_audio.wav\"\n",
        "tts.save(mp3_path)\n",
        "print(\"MP3 saved.\")\n",
        "\n",
        "# Step 2: Convert MP3 to WAV using pydub\n",
        "audio = AudioSegment.from_mp3(mp3_path)\n",
        "audio.export(wav_path, format=\"wav\")\n",
        "print(\"WAV file saved as 'artificial_intelligence_audio.wav'\")\n"
      ],
      "metadata": {
        "colab": {
          "base_uri": "https://localhost:8080/"
        },
        "id": "jzhX7u8--L1B",
        "outputId": "b1bbaf28-f8fb-4831-fc54-9dc5cb79689c"
      },
      "execution_count": 6,
      "outputs": [
        {
          "output_type": "stream",
          "name": "stdout",
          "text": [
            "MP3 saved.\n",
            "WAV file saved as 'artificial_intelligence_audio.wav'\n"
          ]
        }
      ]
    },
    {
      "cell_type": "code",
      "source": [
        "# initialize the recognizer\n",
        "r = sr.Recognizer()\n",
        "\n",
        "# a function that splits the audio file into chunks\n",
        "# and applies speech recognition\n",
        "\n",
        "def get_large_audio_transcription(path):\n",
        "    \"\"\"\n",
        "    Splitting the large audio file into chunks\n",
        "    and apply speech recognition on each of these chunks\n",
        "    \"\"\"\n",
        "    # open the audio file using pydub\n",
        "    sound = AudioSegment.from_wav(path)\n",
        "    # split audio sound where silence is 700 miliseconds or more and get chunks\n",
        "    chunks = split_on_silence(sound,\n",
        "        # experiment with this value for your target audio file\n",
        "        min_silence_len = 500,\n",
        "        # adjust this per requirement\n",
        "        silence_thresh = sound.dBFS-14,\n",
        "        # keep the silence for 1 second, adjustable as well\n",
        "        keep_silence=500,\n",
        "    )\n",
        "    folder_name = \"audio-chunks\"\n",
        "    # create a directory to store the audio chunks\n",
        "    if not os.path.isdir(folder_name):\n",
        "        os.mkdir(folder_name)\n",
        "    whole_text = \"\"\n",
        "    # process each chunk\n",
        "    for i, audio_chunk in enumerate(chunks, start=1):\n",
        "        # export audio chunk and save it in\n",
        "        # the `folder_name` directory.\n",
        "        chunk_filename = os.path.join(folder_name, f\"chunk{i}.wav\")\n",
        "        audio_chunk.export(chunk_filename, format=\"wav\")\n",
        "        # recognize the chunk\n",
        "        with sr.AudioFile(chunk_filename) as source:\n",
        "            audio_listened = r.record(source)\n",
        "            # try converting it to text\n",
        "            try:\n",
        "                text = r.recognize_google(audio_listened)\n",
        "            except sr.UnknownValueError as e:\n",
        "                print(\"Error:\", str(e))\n",
        "            else:\n",
        "                text = f\"{text.capitalize()}. \"\n",
        "                print(chunk_filename, \":\", text)\n",
        "                whole_text += text\n",
        "    # return the text for all chunks detected\n",
        "    return whole_text"
      ],
      "metadata": {
        "id": "-IaJd3cn-uhC"
      },
      "execution_count": 8,
      "outputs": []
    },
    {
      "cell_type": "code",
      "source": [
        "path = \"/content/artificial_intelligence_audio.wav\"\n",
        "print(\"\\nFull text:\", get_large_audio_transcription(path))"
      ],
      "metadata": {
        "id": "8ms4wwxf-3Sy",
        "colab": {
          "base_uri": "https://localhost:8080/"
        },
        "outputId": "ff78f7fc-5016-4936-efcf-6eaba459a28d"
      },
      "execution_count": 9,
      "outputs": [
        {
          "output_type": "stream",
          "name": "stdout",
          "text": [
            "audio-chunks/chunk1.wav : Artificial intelligence. \n",
            "audio-chunks/chunk2.wav : Ai is rapidly transforming various aspects of life. \n",
            "audio-chunks/chunk3.wav : Machines to perform tasks that typically require human. \n",
            "audio-chunks/chunk4.wav : Intelligence. \n",
            "audio-chunks/chunk5.wav : Ai encompasses a range of technologies. \n",
            "audio-chunks/chunk6.wav : Including machine learning natural language processing and robotics. \n",
            "audio-chunks/chunk7.wav : All of which are constantly evolving. \n",
            "audio-chunks/chunk8.wav : These advancements are leading to increased automation of repetitive tasks. \n",
            "audio-chunks/chunk9.wav : Improve data analysis. \n",
            "audio-chunks/chunk10.wav : In the development of more sophisticated tools for decision-making. \n",
            "\n",
            "Full text: Artificial intelligence. Ai is rapidly transforming various aspects of life. Machines to perform tasks that typically require human. Intelligence. Ai encompasses a range of technologies. Including machine learning natural language processing and robotics. All of which are constantly evolving. These advancements are leading to increased automation of repetitive tasks. Improve data analysis. In the development of more sophisticated tools for decision-making. \n"
          ]
        }
      ]
    }
  ]
}